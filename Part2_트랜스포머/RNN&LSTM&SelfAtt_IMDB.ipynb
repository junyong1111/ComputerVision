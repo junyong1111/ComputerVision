{
  "cells": [
    {
      "cell_type": "code",
      "execution_count": 1,
      "metadata": {
        "id": "nW606jxdBcSl"
      },
      "outputs": [],
      "source": [
        "import numpy as np\n",
        "import tensorflow as tf\n",
        "import matplotlib.pyplot as plt\n",
        "from tensorflow.keras.datasets import imdb"
      ]
    },
    {
      "cell_type": "code",
      "execution_count": 2,
      "metadata": {
        "colab": {
          "base_uri": "https://localhost:8080/"
        },
        "id": "nYu5gDkjBfN1",
        "outputId": "e0b540a8-b15c-4572-b67b-23a0e97fd704"
      },
      "outputs": [
        {
          "name": "stdout",
          "output_type": "stream",
          "text": [
            "Downloading data from https://storage.googleapis.com/tensorflow/tf-keras-datasets/imdb.npz\n",
            "17464789/17464789 [==============================] - 1s 0us/step\n",
            "훈련용 리뷰 개수 : 25000\n",
            "테스트용 리뷰 개수 : 25000\n",
            "카테고리 : 2\n"
          ]
        }
      ],
      "source": [
        "(X_train, y_train), (X_test, y_test) = imdb.load_data()\n",
        "\n",
        "print('훈련용 리뷰 개수 : {}'.format(len(X_train)))\n",
        "print('테스트용 리뷰 개수 : {}'.format(len(X_test)))\n",
        "num_classes = len(set(y_train))\n",
        "print('카테고리 : {}'.format(num_classes))"
      ]
    },
    {
      "cell_type": "code",
      "execution_count": 3,
      "metadata": {
        "colab": {
          "base_uri": "https://localhost:8080/"
        },
        "id": "zu7IT61kBfOp",
        "outputId": "b635d94f-edce-46f4-ae52-2180b3f0e1df"
      },
      "outputs": [
        {
          "name": "stdout",
          "output_type": "stream",
          "text": [
            "첫번째 훈련용 리뷰 : [1, 14, 22, 16, 43, 530, 973, 1622, 1385, 65, 458, 4468, 66, 3941, 4, 173, 36, 256, 5, 25, 100, 43, 838, 112, 50, 670, 22665, 9, 35, 480, 284, 5, 150, 4, 172, 112, 167, 21631, 336, 385, 39, 4, 172, 4536, 1111, 17, 546, 38, 13, 447, 4, 192, 50, 16, 6, 147, 2025, 19, 14, 22, 4, 1920, 4613, 469, 4, 22, 71, 87, 12, 16, 43, 530, 38, 76, 15, 13, 1247, 4, 22, 17, 515, 17, 12, 16, 626, 18, 19193, 5, 62, 386, 12, 8, 316, 8, 106, 5, 4, 2223, 5244, 16, 480, 66, 3785, 33, 4, 130, 12, 16, 38, 619, 5, 25, 124, 51, 36, 135, 48, 25, 1415, 33, 6, 22, 12, 215, 28, 77, 52, 5, 14, 407, 16, 82, 10311, 8, 4, 107, 117, 5952, 15, 256, 4, 31050, 7, 3766, 5, 723, 36, 71, 43, 530, 476, 26, 400, 317, 46, 7, 4, 12118, 1029, 13, 104, 88, 4, 381, 15, 297, 98, 32, 2071, 56, 26, 141, 6, 194, 7486, 18, 4, 226, 22, 21, 134, 476, 26, 480, 5, 144, 30, 5535, 18, 51, 36, 28, 224, 92, 25, 104, 4, 226, 65, 16, 38, 1334, 88, 12, 16, 283, 5, 16, 4472, 113, 103, 32, 15, 16, 5345, 19, 178, 32]\n",
            "첫번째 훈련용 리뷰의 레이블 : 1\n"
          ]
        }
      ],
      "source": [
        "print('첫번째 훈련용 리뷰 :',X_train[0])\n",
        "print('첫번째 훈련용 리뷰의 레이블 :',y_train[0])"
      ]
    },
    {
      "cell_type": "code",
      "execution_count": 4,
      "metadata": {
        "colab": {
          "base_uri": "https://localhost:8080/",
          "height": 467
        },
        "id": "CZe1bTYaBjk7",
        "outputId": "0ae7a916-ad94-423a-f0f6-303c6c3c3ac1"
      },
      "outputs": [
        {
          "name": "stdout",
          "output_type": "stream",
          "text": [
            "리뷰의 최대 길이 : 2494\n",
            "리뷰의 평균 길이 : 238.71364\n"
          ]
        },
        {
          "data": {
            "image/png": "[encoded data removed]",
            "text/plain": [
              "<Figure size 640x480 with 2 Axes>"
            ]
          },
          "metadata": {},
          "output_type": "display_data"
        }
      ],
      "source": [
        "reviews_length = [len(review) for review in X_train]\n",
        "\n",
        "print('리뷰의 최대 길이 : {}'.format(np.max(reviews_length)))\n",
        "print('리뷰의 평균 길이 : {}'.format(np.mean(reviews_length)))\n",
        "\n",
        "plt.subplot(1,2,1)\n",
        "plt.boxplot(reviews_length)\n",
        "plt.subplot(1,2,2)\n",
        "plt.hist(reviews_length, bins=50)\n",
        "plt.show()"
      ]
    },
    {
      "cell_type": "code",
      "execution_count": 5,
      "metadata": {
        "colab": {
          "base_uri": "https://localhost:8080/"
        },
        "id": "zjeE_d4LBlGV",
        "outputId": "2ca7e014-b517-423c-feca-dd4466d2ba7f"
      },
      "outputs": [
        {
          "name": "stdout",
          "output_type": "stream",
          "text": [
            "각 레이블에 대한 빈도수:\n",
            "[[    0     1]\n",
            " [12500 12500]]\n"
          ]
        }
      ],
      "source": [
        "unique_elements, counts_elements = np.unique(y_train, return_counts=True)\n",
        "print(\"각 레이블에 대한 빈도수:\")\n",
        "print(np.asarray((unique_elements, counts_elements)))"
      ]
    },
    {
      "cell_type": "code",
      "execution_count": 6,
      "metadata": {
        "colab": {
          "base_uri": "https://localhost:8080/"
        },
        "id": "RZwAmdJPBllY",
        "outputId": "fb71c301-c50c-4fad-cc34-0e94afa33f63"
      },
      "outputs": [
        {
          "name": "stdout",
          "output_type": "stream",
          "text": [
            "Downloading data from https://storage.googleapis.com/tensorflow/tf-keras-datasets/imdb_word_index.json\n",
            "1641221/1641221 [==============================] - 0s 0us/step\n"
          ]
        }
      ],
      "source": [
        "word_to_index = imdb.get_word_index()\n",
        "index_to_word = {}\n",
        "for key, value in word_to_index.items():\n",
        "    index_to_word[value+3] = key"
      ]
    },
    {
      "cell_type": "code",
      "execution_count": 7,
      "metadata": {
        "colab": {
          "base_uri": "https://localhost:8080/"
        },
        "id": "1p4G0BeGBmpg",
        "outputId": "75fa24ec-87ad-4617-cb57-6f52136bed9b"
      },
      "outputs": [
        {
          "name": "stdout",
          "output_type": "stream",
          "text": [
            "<sos> this film was just brilliant casting location scenery story direction everyone's really suited the part they played and you could just imagine being there robert redford's is an amazing actor and now the same being director norman's father came from the same scottish island as myself so i loved the fact there was a real connection with this film the witty remarks throughout the film were great it was just brilliant so much that i bought the film as soon as it was released for retail and would recommend it to everyone to watch and the fly fishing was amazing really cried at the end it was so sad and you know what they say if you cry at a film it must have been good and this definitely was also congratulations to the two little boy's that played the part's of norman and paul they were just brilliant children are often left out of the praising list i think because the stars that play them all grown up are such a big profile for the whole film but these children are amazing and should be praised for what they have done don't you think the whole story was so lovely because it was true and was someone's life after all that was shared with us all\n"
          ]
        }
      ],
      "source": [
        "for index, token in enumerate((\"<pad>\", \"<sos>\", \"<unk>\")):\n",
        "  index_to_word[index] = token\n",
        "\n",
        "print(' '.join([index_to_word[index] for index in X_train[0]]))"
      ]
    },
    {
      "cell_type": "code",
      "execution_count": 8,
      "metadata": {
        "id": "hQpXeDvwBmqS"
      },
      "outputs": [],
      "source": [
        "import re  #-- 정규표현식을 사용하기 위한 모듈 임포트\n",
        "from tensorflow.keras.datasets import imdb  #-- IMDB 데이터셋을 로드하기 위한 모듈 임포트\n",
        "from tensorflow.keras.preprocessing.sequence import pad_sequences  #-- 시퀀스 패딩을 위한 모듈 임포트\n",
        "from tensorflow.keras.models import Sequential  #-- Sequential 모델을 사용하기 위한 모듈 임포트\n",
        "from tensorflow.keras.layers import Dense, Embedding, SimpleRNN, LSTM  #-- 다양한 레이어를 사용하기 위한 모듈 임포트\n",
        "from tensorflow.keras.callbacks import EarlyStopping, ModelCheckpoint  #-- 훈련 중단 및 모델 체크포인트를 위한 모듈 임포트\n",
        "from tensorflow.keras.models import load_model  #-- 모델 로드를 위한 모듈 임포트\n",
        "\n",
        "vocab_size = 10000  #-- 사용할 단어의 개수를 지정하는 변수\n",
        "max_len = 500  #-- 문장의 최대 길이를 지정하는 변수\n",
        "\n",
        "(X_train, y_train), (X_test, y_test) = imdb.load_data(num_words=vocab_size)\n",
        "#-- IMDB 데이터셋을 로드하고, num_words를 통해 빈도 기준 상위 vocab_size 개의 단어만 사용하여 데이터를 로드\n",
        "#-- 훈련 데이터와 테스트 데이터로 구분\n",
        "\n",
        "X_train = pad_sequences(X_train, maxlen=max_len)\n",
        "X_test = pad_sequences(X_test, maxlen=max_len)\n",
        "#-- pad_sequences를 사용하여 시퀀스 데이터인 X_train과 X_test의 길이를 맞춤\n",
        "#-- maxlen을 통해 문장의 최대 길이를 설정하고, 부족한 길이의 문장은 0으로 패딩"
      ]
    },
    {
      "attachments": {},
      "cell_type": "markdown",
      "metadata": {
        "id": "iqM40qSs5XKX"
      },
      "source": [
        "## 모델정의"
      ]
    },
    {
      "cell_type": "code",
      "execution_count": 9,
      "metadata": {
        "id": "qVh4P7lzKCiE"
      },
      "outputs": [],
      "source": [
        "def rnn_model(): #-- RNN Model\n",
        "    model = Sequential()  #-- Sequential 모델 생성\n",
        "    model.add(Embedding(vocab_size, embedding_dim)) #-- Embedding 레이어: 단어 임베딩을 학습하는 역할\n",
        "    model.add(SimpleRNN(hidden_units)) #-- SimpleRNN 레이어: RNN의 한 종류로, 시계열 데이터 처리에 사용됨\n",
        "    model.add(Dense(1, activation='sigmoid')) #-- Dense 레이어: 이진 분류를 위한 출력층\n",
        "\n",
        "    es = EarlyStopping(monitor='val_loss', mode='min', verbose=1, patience=4) \n",
        "    #---- 과적합을 방지하기 위한 EarlyStopping(조기 종료) 코드\n",
        "    mc = ModelCheckpoint('rnn_model.h5', monitor='val_acc', mode='max', verbose=1, save_best_only=True)\n",
        "    #-- 학습 모델을 저장하기 위한 checkpoint 저장\n",
        "\n",
        "    model.compile(optimizer='rmsprop', loss='binary_crossentropy', metrics=['acc'])\n",
        "    #-- 이진분류 문제이므로 binary_crossentropy를 사용하여 모델 컴파일\n",
        "    history = model.fit(X_train, y_train, epochs=15, callbacks=[es, mc], batch_size=64, validation_split=0.2)\n",
        "    #-- 모델 학습 history 저장\n",
        "    return model\n",
        "\n",
        "def lstm_model():\n",
        "    model = Sequential() #-- LSTM 모델 생성\n",
        "    model.add(Embedding(vocab_size, embedding_dim)) #-- Embedding 층 추가: 입력 데이터를 임베딩 벡터로 변환\n",
        "    model.add(LSTM(hidden_units))#-- LSTM 층 추가: LSTM 레이어를 모델에 추가\n",
        "    model.add(Dense(1, activation='sigmoid'))#-- Dense 층 추가: 이진 분류를 위한 출력층\n",
        "\n",
        "    es = EarlyStopping(monitor='val_loss', mode='min', verbose=1, patience=4)\n",
        "    mc = ModelCheckpoint('lstm_model.h5', monitor='val_acc', mode='max', verbose=1, save_best_only=True)\n",
        "    model.compile(optimizer='rmsprop', loss='binary_crossentropy', metrics=['acc'])\n",
        "    history = model.fit(X_train, y_train, epochs=15, callbacks=[es, mc], batch_size=64, validation_split=0.2)\n",
        "    return model\n",
        "\n",
        "class MultiHeadAttention(tf.keras.layers.Layer):\n",
        "    def __init__(self, embedding_dim, num_heads=8):\n",
        "        super(MultiHeadAttention, self).__init__()\n",
        "        self.embedding_dim = embedding_dim  # 임베딩 차원\n",
        "        self.num_heads = num_heads  # 어텐션 헤드의 개수\n",
        "\n",
        "        assert embedding_dim % self.num_heads == 0  # 임베딩 차원이 어텐션 헤드의 개수로 나누어 떨어지는지 확인\n",
        "\n",
        "        self.projection_dim = embedding_dim // num_heads  # 어텐션 헤드 당 차원 크기\n",
        "        self.query_dense = tf.keras.layers.Dense(embedding_dim)  # 쿼리에 대한 밀집층\n",
        "        self.key_dense = tf.keras.layers.Dense(embedding_dim)  # 키에 대한 밀집층\n",
        "        self.value_dense = tf.keras.layers.Dense(embedding_dim)  # 값에 대한 밀집층\n",
        "        self.dense = tf.keras.layers.Dense(embedding_dim)  # 최종 출력을 위한 밀집층\n",
        "\n",
        "    def scaled_dot_product_attention(self, query, key, value):  # 스케일된 닷 프로덕트 어텐션 함수\n",
        "        matmul_qk = tf.matmul(query, key, transpose_b=True)  # 쿼리와 키를 곱함\n",
        "        depth = tf.cast(tf.shape(key)[-1], tf.float32)  # 스케일링 팩터\n",
        "        logits = matmul_qk / tf.math.sqrt(depth)  # 스케일링\n",
        "        attention_weights = tf.nn.softmax(logits, axis=-1)  # 소프트맥스를 적용해 어텐션 가중치를 계산\n",
        "        output = tf.matmul(attention_weights, value)  # 가중치와 값을 곱해 출력을 계산\n",
        "        return output, attention_weights\n",
        "\n",
        "    def split_heads(self, x, batch_size):  # 입력을 여러 헤드로 분할하는 함수\n",
        "        x = tf.reshape(x, (batch_size, -1, self.num_heads, self.projection_dim))  # 입력을 적절한 형상으로 재구성\n",
        "        return tf.transpose(x, perm=[0, 2, 1, 3])  # 결과를 반환하기 전에 차원을 바꿈\n",
        "\n",
        "\n",
        "    def call(self, inputs):  # 레이어의 전방향 연산\n",
        "        batch_size = tf.shape(inputs)[0]\n",
        "        query = self.query_dense(inputs)  # 쿼리에 대한 밀집층을 통과\n",
        "        key = self.key_dense(inputs)  # 키에 대한 밀집층을 통과\n",
        "        value = self.value_dense(inputs)  # 값에 대한 밀집층을 통과\n",
        "        query = self.split_heads(query, batch_size)  # 쿼리를 여러 헤드로 분할\n",
        "        key = self.split_heads(key, batch_size)  # 키를 여러 헤드로 분할\n",
        "        value = self.split_heads(value, batch_size)  # 값을 여러 헤드로 분할\n",
        "        scaled_attention, _ = self.scaled_dot_product_attention(query, key, value)  # 스케일된 닷 프로덕트 어텐션을 계산\n",
        "        scaled_attention = tf.transpose(scaled_attention, perm=[0, 2, 1, 3])  # 차원을 바꿈\n",
        "        concat_attention = tf.reshape(scaled_attention, (batch_size, -1, self.embedding_dim))  # 헤드를 다시 합침\n",
        "        outputs = self.dense(concat_attention)  # 최종 출력을 위한 밀집층을 통과\n",
        "        return outputs  # 최종 출력을 반환\n",
        "\n",
        "\"\"\"\n",
        "Transformer 모델의 핵심적인 부분인 Multi-Head Attention 메커니즘을 구현\n",
        "주요 작업들은 Query, Key, Value라는 세 가지 정보를 처리하고, 이 정보들 사이의 관계를 통해 입력 정보를 재조합한다.\n",
        "\"\"\"\n",
        "\n",
        "class TransformerBlock(tf.keras.layers.Layer):\n",
        "    def __init__(self, embedding_dim, num_heads, dff, rate=0.1):\n",
        "        super(TransformerBlock, self).__init__()\n",
        "        self.att = MultiHeadAttention(embedding_dim, num_heads)  # 멀티 헤드 어텐션 레이어 생성\n",
        "        self.ffn = tf.keras.Sequential(  # 포지션 와이즈 피드 포워드 신경망 생성\n",
        "            [tf.keras.layers.Dense(dff, activation=\"relu\"),\n",
        "             tf.keras.layers.Dense(embedding_dim),]\n",
        "        )\n",
        "        self.layernorm1 = tf.keras.layers.LayerNormalization(epsilon=1e-6)  # 첫번째 Layer Normalization\n",
        "        self.layernorm2 = tf.keras.layers.LayerNormalization(epsilon=1e-6)  # 두번째 Layer Normalization\n",
        "        self.dropout1 = tf.keras.layers.Dropout(rate)  # 첫번째 Dropout layer\n",
        "        self.dropout2 = tf.keras.layers.Dropout(rate)  # 두번째 Dropout layer\n",
        "\n",
        "    def call(self, inputs, training):  # 레이어의 전방향 연산 정의\n",
        "        attn_output = self.att(inputs)  # 멀티 헤드 어텐션 수행\n",
        "        attn_output = self.dropout1(attn_output, training=training)  # 어텐션 결과에 Dropout 적용\n",
        "        out1 = self.layernorm1(inputs + attn_output)  # Add & Norm 적용\n",
        "        ffn_output = self.ffn(out1)  # 포지션 와이즈 피드 포워드 신경망 수행\n",
        "        ffn_output = self.dropout2(ffn_output, training=training)  # 포지션 와이즈 피드 포워드 결과에 Dropout 적용\n",
        "        return self.layernorm2(out1 + ffn_output)  # 최종 결과 Add & Norm 적용\n",
        "\n",
        "\"\"\"\n",
        "TransformerBlock은 MultiHeadAttention을 포함하는 층으로, Transformer의 기본 구성 단위이다. 이 클래스는\n",
        "멀티헤드 어텐션, 그리고 포지션 와이즈 피드 포워드 네트워크  두 개의 서브층으로 구성되어 있는데,\n",
        "각 서브층 뒤에는 드롭아웃, Layer Normalization, 그리고 Residual Connection이 있다.\n",
        "\"\"\"\n",
        "\n",
        "class TokenAndPositionEmbedding(tf.keras.layers.Layer):\n",
        "    def __init__(self, max_len, vocab_size, embedding_dim):\n",
        "        super(TokenAndPositionEmbedding, self).__init__()\n",
        "        self.token_emb = tf.keras.layers.Embedding(vocab_size, embedding_dim)  # 토큰 임베딩 레이어 생성\n",
        "        self.pos_emb = tf.keras.layers.Embedding(max_len, embedding_dim)  # 포지션 임베딩 레이어 생성\n",
        "\n",
        "    def call(self, x):  # 레이어의 전방향 연산 정의\n",
        "        max_len = tf.shape(x)[-1]\n",
        "        positions = tf.range(start=0, limit=max_len, delta=1)  # 포지션 값 생성\n",
        "        positions = self.pos_emb(positions)  # 포지션에 대한 임베딩 결과 생성\n",
        "        x = self.token_emb(x)  # 토큰에 대한 임베딩 결과 생성\n",
        "        return x + positions  # 토큰 임베딩과 포지션 임베딩을 더하여 반환\n",
        "\n",
        "\"\"\"\n",
        "이 클래스는 각 토큰의 위치 정보를 포함하는 임베딩을 생성한다.\n",
        "이는 Transformer가 입력 문장의 순서 정보를 놓치지 않도록 보장하고\n",
        "이 클래스는 각 토큰과 그 위치에 대한 임베딩을 합산하여 반환한다.\n",
        "\"\"\"\n",
        "\n",
        "def selfAttention_model():  # SelfAttention Model 함수 정의\n",
        "  embedding_dim = 32  # 각 단어의 임베딩 벡터의 차원\n",
        "  num_heads = 2  # 어텐션 헤드의 수\n",
        "  dff = 32  # 포지션 와이즈 피드 포워드 신경망의 은닉층의 크기\n",
        "  inputs = tf.keras.layers.Input(shape=(max_len,))  # 입력 레이어 생성\n",
        "  embedding_layer = TokenAndPositionEmbedding(max_len, vocab_size, embedding_dim)  # 임베딩 레이어 생성\n",
        "  x = embedding_layer(inputs)  # 임베딩 레이어를 통과한 출력\n",
        "  transformer_block = TransformerBlock(embedding_dim, num_heads, dff)  # 트랜스포머 블록 레이어 생성\n",
        "  x = transformer_block(x)  # 트랜스포머 블록 레이어를 통과한 출력\n",
        "  x = tf.keras.layers.GlobalAveragePooling1D()(x)  # 글로벌 평균 풀링 적용\n",
        "  x = tf.keras.layers.Dropout(0.1)(x)  # Dropout 적용\n",
        "  x = tf.keras.layers.Dense(20, activation=\"relu\")(x)  # 완전연결층(Dense layer)를 통과한 출력\n",
        "  x = tf.keras.layers.Dropout(0.1)(x)  # Dropout 적용\n",
        "  outputs = tf.keras.layers.Dense(2, activation=\"softmax\")(x)  # 최종 출력 레이어\n",
        "\n",
        "  es = EarlyStopping(monitor='val_loss', mode='min', verbose=1, patience=4)  # 조기 종료 설정\n",
        "  model = tf.keras.Model(inputs=inputs, outputs=outputs)  # 모델 생성\n",
        "  mc = ModelCheckpoint('sellAttention_model.h5', monitor='val_acc', mode='max', verbose=1, save_best_only=True)  # 모델 체크포인트 설정\n",
        "  model.compile(\"adam\", \"sparse_categorical_crossentropy\", metrics=[\"accuracy\"])  # 모델 컴파일\n",
        "  history = model.fit(X_train, y_train, batch_size=32, epochs=20, callbacks=[es, mc], validation_data=(X_test, y_test))  # 모델 학습\n",
        "  return model  # 학습된 모델 반환\n",
        "\n",
        "\"\"\"\n",
        "이 함수는 위에서 정의한 클래스들을 사용하여 최종 모델을 구성하고 학습하는 과정을 정의한다.\n",
        "먼저 입력을 임베딩 층에 통과시키고, Transformer 블록에 통과시킨 후에 평균 풀링을 적용한다. \n",
        "그 후에 두 개의 Dense 층을 거쳐 최종 출력을 만들어낸다. \n",
        "\"\"\""
      ]
    },
    {
      "cell_type": "code",
      "execution_count": 10,
      "metadata": {
        "id": "jmLw_Yimxxsw"
      },
      "outputs": [],
      "source": [
        "import re\n",
        "from tensorflow.keras.preprocessing.sequence import pad_sequences\n",
        "\n",
        "word_to_index = tf.keras.datasets.imdb.get_word_index()\n",
        "index_to_word = {}\n",
        "for key, value in word_to_index.items():\n",
        "    index_to_word[value+3] = key\n",
        "\n",
        "def sentiment_predict_att(new_sentence, loaded_model):\n",
        "  # 알파벳과 숫자를 제외하고 모두 제거 및 알파벳 소문자화\n",
        "  new_sentence = re.sub('[^0-9a-zA-Z ]', '', new_sentence).lower()\n",
        "  encoded = []\n",
        "\n",
        "  # 띄어쓰기 단위 토큰화 후 정수 인코딩\n",
        "  for word in new_sentence.split():\n",
        "    try :\n",
        "      # 단어 집합의 크기를 10,000으로 제한.\n",
        "      if word_to_index[word] <= 10000:\n",
        "        encoded.append(word_to_index[word]+3)\n",
        "      else:\n",
        "      # 10,000 이상의 숫자는 <unk> 토큰으로 변환.\n",
        "        encoded.append(2)\n",
        "    # 단어 집합에 없는 단어는 <unk> 토큰으로 변환.\n",
        "    except KeyError:\n",
        "      encoded.append(2)\n",
        "\n",
        "  pad_sequence = pad_sequences([encoded], maxlen=max_len)\n",
        "  # score = float(loaded_model.predict(pad_sequence)) # 예측\n",
        "\n",
        "  positive_score = float(loaded_model.predict(pad_sequence)[0][1])\n",
        "  nevative_score = float(loaded_model.predict(pad_sequence)[0][0])\n",
        "\n",
        "  print(\"{:.2f}% 확률로 긍정 리뷰입니다.\".format(positive_score * 100))\n",
        "  print(\"{:.2f}% 확률로 부정 리뷰입니다.\".format((nevative_score) * 100))\n",
        "\n",
        "def sentiment_predict(new_sentence, loaded_model):\n",
        "  # 알파벳과 숫자를 제외하고 모두 제거 및 알파벳 소문자화\n",
        "  new_sentence = re.sub('[^0-9a-zA-Z ]', '', new_sentence).lower()\n",
        "  encoded = []\n",
        "\n",
        "  # 띄어쓰기 단위 토큰화 후 정수 인코딩\n",
        "  for word in new_sentence.split():\n",
        "    try :\n",
        "      # 단어 집합의 크기를 10,000으로 제한.\n",
        "      if word_to_index[word] <= 10000:\n",
        "        encoded.append(word_to_index[word]+3)\n",
        "      else:\n",
        "      # 10,000 이상의 숫자는 <unk> 토큰으로 변환.\n",
        "        encoded.append(2)\n",
        "    # 단어 집합에 없는 단어는 <unk> 토큰으로 변환.\n",
        "    except KeyError:\n",
        "      encoded.append(2)\n",
        "\n",
        "  pad_sequence = pad_sequences([encoded], maxlen=max_len)\n",
        "  score = float(loaded_model.predict(pad_sequence)) # 예측\n",
        "\n",
        "  if(score > 0.5):\n",
        "    print(\"{:.2f}% 확률로 긍정 리뷰입니다.\".format(score * 100))\n",
        "  else:\n",
        "    print(\"{:.2f}% 확률로 부정 리뷰입니다.\".format((1 - score) * 100))"
      ]
    },
    {
      "attachments": {},
      "cell_type": "markdown",
      "metadata": {
        "id": "JoFWL6Sk5fDe"
      },
      "source": [
        "## 모델 학습"
      ]
    },
    {
      "cell_type": "code",
      "execution_count": 11,
      "metadata": {
        "colab": {
          "base_uri": "https://localhost:8080/"
        },
        "id": "o5zyHNSCBwsc",
        "outputId": "b49a876b-d289-49c5-e939-84b635fdbfef"
      },
      "outputs": [
        {
          "name": "stdout",
          "output_type": "stream",
          "text": [
            "Epoch 1/15\n",
            "313/313 [==============================] - ETA: 0s - loss: 0.6509 - acc: 0.5964\n",
            "Epoch 1: val_acc improved from -inf to 0.77100, saving model to rnn_model.h5\n",
            "313/313 [==============================] - 239s 740ms/step - loss: 0.6509 - acc: 0.5964 - val_loss: 0.4837 - val_acc: 0.7710\n",
            "Epoch 2/15\n",
            "313/313 [==============================] - ETA: 0s - loss: 0.4529 - acc: 0.7970\n",
            "Epoch 2: val_acc improved from 0.77100 to 0.80940, saving model to rnn_model.h5\n",
            "313/313 [==============================] - 211s 674ms/step - loss: 0.4529 - acc: 0.7970 - val_loss: 0.4365 - val_acc: 0.8094\n",
            "Epoch 3/15\n",
            "313/313 [==============================] - ETA: 0s - loss: 0.3876 - acc: 0.8396\n",
            "Epoch 3: val_acc improved from 0.80940 to 0.81720, saving model to rnn_model.h5\n",
            "313/313 [==============================] - 237s 757ms/step - loss: 0.3876 - acc: 0.8396 - val_loss: 0.4262 - val_acc: 0.8172\n",
            "Epoch 4/15\n",
            "313/313 [==============================] - ETA: 0s - loss: 0.3586 - acc: 0.8542\n",
            "Epoch 4: val_acc did not improve from 0.81720\n",
            "313/313 [==============================] - 218s 696ms/step - loss: 0.3586 - acc: 0.8542 - val_loss: 0.4879 - val_acc: 0.7850\n",
            "Epoch 5/15\n",
            "313/313 [==============================] - ETA: 0s - loss: 0.3254 - acc: 0.8709\n",
            "Epoch 5: val_acc improved from 0.81720 to 0.84140, saving model to rnn_model.h5\n",
            "313/313 [==============================] - 242s 771ms/step - loss: 0.3254 - acc: 0.8709 - val_loss: 0.4061 - val_acc: 0.8414\n",
            "Epoch 6/15\n",
            "313/313 [==============================] - ETA: 0s - loss: 0.3288 - acc: 0.8694\n",
            "Epoch 6: val_acc did not improve from 0.84140\n",
            "313/313 [==============================] - 207s 663ms/step - loss: 0.3288 - acc: 0.8694 - val_loss: 0.4099 - val_acc: 0.8284\n",
            "Epoch 7/15\n",
            "313/313 [==============================] - ETA: 0s - loss: 0.3140 - acc: 0.8794\n",
            "Epoch 7: val_acc did not improve from 0.84140\n",
            "313/313 [==============================] - 188s 600ms/step - loss: 0.3140 - acc: 0.8794 - val_loss: 0.4943 - val_acc: 0.7694\n",
            "Epoch 8/15\n",
            "313/313 [==============================] - ETA: 0s - loss: 0.3324 - acc: 0.8704\n",
            "Epoch 8: val_acc did not improve from 0.84140\n",
            "313/313 [==============================] - 186s 594ms/step - loss: 0.3324 - acc: 0.8704 - val_loss: 0.4477 - val_acc: 0.8218\n",
            "Epoch 9/15\n",
            "313/313 [==============================] - ETA: 0s - loss: 0.2763 - acc: 0.8945\n",
            "Epoch 9: val_acc did not improve from 0.84140\n",
            "313/313 [==============================] - 207s 662ms/step - loss: 0.2763 - acc: 0.8945 - val_loss: 0.5200 - val_acc: 0.8260\n",
            "Epoch 9: early stopping\n",
            "Epoch 1/15\n",
            "313/313 [==============================] - ETA: 0s - loss: 0.5184 - acc: 0.7368\n",
            "Epoch 1: val_acc improved from -inf to 0.78540, saving model to lstm_model.h5\n",
            "313/313 [==============================] - 45s 132ms/step - loss: 0.5184 - acc: 0.7368 - val_loss: 0.5156 - val_acc: 0.7854\n",
            "Epoch 2/15\n",
            "313/313 [==============================] - ETA: 0s - loss: 0.3411 - acc: 0.8635\n",
            "Epoch 2: val_acc improved from 0.78540 to 0.82780, saving model to lstm_model.h5\n",
            "313/313 [==============================] - 27s 85ms/step - loss: 0.3411 - acc: 0.8635 - val_loss: 0.3961 - val_acc: 0.8278\n",
            "Epoch 3/15\n",
            "313/313 [==============================] - ETA: 0s - loss: 0.2802 - acc: 0.8924\n",
            "Epoch 3: val_acc improved from 0.82780 to 0.87180, saving model to lstm_model.h5\n",
            "313/313 [==============================] - 18s 57ms/step - loss: 0.2802 - acc: 0.8924 - val_loss: 0.3119 - val_acc: 0.8718\n",
            "Epoch 4/15\n",
            "313/313 [==============================] - ETA: 0s - loss: 0.2362 - acc: 0.9109\n",
            "Epoch 4: val_acc improved from 0.87180 to 0.87800, saving model to lstm_model.h5\n",
            "313/313 [==============================] - 14s 46ms/step - loss: 0.2362 - acc: 0.9109 - val_loss: 0.3022 - val_acc: 0.8780\n",
            "Epoch 5/15\n",
            "313/313 [==============================] - ETA: 0s - loss: 0.2092 - acc: 0.9217\n",
            "Epoch 5: val_acc did not improve from 0.87800\n",
            "313/313 [==============================] - 13s 41ms/step - loss: 0.2092 - acc: 0.9217 - val_loss: 0.3499 - val_acc: 0.8612\n",
            "Epoch 6/15\n",
            "313/313 [==============================] - ETA: 0s - loss: 0.1822 - acc: 0.9342\n",
            "Epoch 6: val_acc did not improve from 0.87800\n",
            "313/313 [==============================] - 13s 40ms/step - loss: 0.1822 - acc: 0.9342 - val_loss: 0.3660 - val_acc: 0.8566\n",
            "Epoch 7/15\n",
            "313/313 [==============================] - ETA: 0s - loss: 0.1634 - acc: 0.9420\n",
            "Epoch 7: val_acc did not improve from 0.87800\n",
            "313/313 [==============================] - 12s 38ms/step - loss: 0.1634 - acc: 0.9420 - val_loss: 0.3314 - val_acc: 0.8718\n",
            "Epoch 8/15\n",
            "313/313 [==============================] - ETA: 0s - loss: 0.1394 - acc: 0.9517\n",
            "Epoch 8: val_acc did not improve from 0.87800\n",
            "313/313 [==============================] - 10s 32ms/step - loss: 0.1394 - acc: 0.9517 - val_loss: 0.3639 - val_acc: 0.8744\n",
            "Epoch 8: early stopping\n",
            "Epoch 1/20\n",
            "782/782 [==============================] - ETA: 0s - loss: 0.3881 - accuracy: 0.8129"
          ]
        },
        {
          "name": "stderr",
          "output_type": "stream",
          "text": [
            "WARNING:tensorflow:Can save best model only with val_acc available, skipping.\n"
          ]
        },
        {
          "name": "stdout",
          "output_type": "stream",
          "text": [
            "\b\b\b\b\b\b\b\b\b\b\b\b\b\b\b\b\b\b\b\b\b\b\b\b\b\b\b\b\b\b\b\b\b\b\b\b\b\b\b\b\b\b\b\b\b\b\b\b\b\b\b\b\b\b\b\b\b\b\b\b\b\b\b\b\b\b\b\b\b\b\b\b\b\b\b\b\b\b\b\b\b\b\b\b\r782/782 [==============================] - 117s 143ms/step - loss: 0.3881 - accuracy: 0.8129 - val_loss: 0.2703 - val_accuracy: 0.8894\n",
            "Epoch 2/20\n",
            "782/782 [==============================] - ETA: 0s - loss: 0.2133 - accuracy: 0.9199"
          ]
        },
        {
          "name": "stderr",
          "output_type": "stream",
          "text": [
            "WARNING:tensorflow:Can save best model only with val_acc available, skipping.\n"
          ]
        },
        {
          "name": "stdout",
          "output_type": "stream",
          "text": [
            "\b\b\b\b\b\b\b\b\b\b\b\b\b\b\b\b\b\b\b\b\b\b\b\b\b\b\b\b\b\b\b\b\b\b\b\b\b\b\b\b\b\b\b\b\b\b\b\b\b\b\b\b\b\b\b\b\b\b\b\b\b\b\b\b\b\b\b\b\b\b\b\b\b\b\b\b\b\b\b\b\b\b\b\b\r782/782 [==============================] - 48s 62ms/step - loss: 0.2133 - accuracy: 0.9199 - val_loss: 0.2850 - val_accuracy: 0.8807\n",
            "Epoch 3/20\n",
            "782/782 [==============================] - ETA: 0s - loss: 0.1622 - accuracy: 0.9415"
          ]
        },
        {
          "name": "stderr",
          "output_type": "stream",
          "text": [
            "WARNING:tensorflow:Can save best model only with val_acc available, skipping.\n"
          ]
        },
        {
          "name": "stdout",
          "output_type": "stream",
          "text": [
            "\b\b\b\b\b\b\b\b\b\b\b\b\b\b\b\b\b\b\b\b\b\b\b\b\b\b\b\b\b\b\b\b\b\b\b\b\b\b\b\b\b\b\b\b\b\b\b\b\b\b\b\b\b\b\b\b\b\b\b\b\b\b\b\b\b\b\b\b\b\b\b\b\b\b\b\b\b\b\b\b\b\b\b\b\r782/782 [==============================] - 36s 46ms/step - loss: 0.1622 - accuracy: 0.9415 - val_loss: 0.3077 - val_accuracy: 0.8791\n",
            "Epoch 4/20\n",
            "782/782 [==============================] - ETA: 0s - loss: 0.1262 - accuracy: 0.9566"
          ]
        },
        {
          "name": "stderr",
          "output_type": "stream",
          "text": [
            "WARNING:tensorflow:Can save best model only with val_acc available, skipping.\n"
          ]
        },
        {
          "name": "stdout",
          "output_type": "stream",
          "text": [
            "\b\b\b\b\b\b\b\b\b\b\b\b\b\b\b\b\b\b\b\b\b\b\b\b\b\b\b\b\b\b\b\b\b\b\b\b\b\b\b\b\b\b\b\b\b\b\b\b\b\b\b\b\b\b\b\b\b\b\b\b\b\b\b\b\b\b\b\b\b\b\b\b\b\b\b\b\b\b\b\b\b\b\b\b\r782/782 [==============================] - 27s 34ms/step - loss: 0.1262 - accuracy: 0.9566 - val_loss: 0.3514 - val_accuracy: 0.8597\n",
            "Epoch 5/20\n",
            "782/782 [==============================] - ETA: 0s - loss: 0.1007 - accuracy: 0.9662"
          ]
        },
        {
          "name": "stderr",
          "output_type": "stream",
          "text": [
            "WARNING:tensorflow:Can save best model only with val_acc available, skipping.\n"
          ]
        },
        {
          "name": "stdout",
          "output_type": "stream",
          "text": [
            "\b\b\b\b\b\b\b\b\b\b\b\b\b\b\b\b\b\b\b\b\b\b\b\b\b\b\b\b\b\b\b\b\b\b\b\b\b\b\b\b\b\b\b\b\b\b\b\b\b\b\b\b\b\b\b\b\b\b\b\b\b\b\b\b\b\b\b\b\b\b\b\b\b\b\b\b\b\b\b\b\b\b\b\b\r782/782 [==============================] - 24s 31ms/step - loss: 0.1007 - accuracy: 0.9662 - val_loss: 0.4111 - val_accuracy: 0.8642\n",
            "Epoch 5: early stopping\n"
          ]
        }
      ],
      "source": [
        "embedding_dim = 100\n",
        "hidden_units = 128\n",
        "\n",
        "\n",
        "rnn = rnn_model()\n",
        "lstm = lstm_model()\n",
        "selfAtt = selfAttention_model()"
      ]
    },
    {
      "cell_type": "code",
      "execution_count": 12,
      "metadata": {
        "colab": {
          "base_uri": "https://localhost:8080/",
          "height": 369
        },
        "id": "-3v6hMFHsncE",
        "outputId": "07a5e0a5-2a89-482f-dcf5-61caf6970a98"
      },
      "outputs": [
        {
          "data": {
            "image/png": "[encoded data removed]",
            "text/plain": [
              "<IPython.core.display.Image object>"
            ]
          },
          "execution_count": 12,
          "metadata": {},
          "output_type": "execute_result"
        }
      ],
      "source": [
        "from tensorflow.keras.utils import plot_model\n",
        "plot_model(rnn, show_shapes=False, to_file='rnn_model.png')"
      ]
    },
    {
      "cell_type": "code",
      "execution_count": 13,
      "metadata": {
        "colab": {
          "base_uri": "https://localhost:8080/",
          "height": 369
        },
        "id": "RMHd6fXcsR91",
        "outputId": "84d51324-4d8b-41fa-d193-d417ccba4eb5"
      },
      "outputs": [
        {
          "data": {
            "image/png": "[encoded data removed]",
            "text/plain": [
              "<IPython.core.display.Image object>"
            ]
          },
          "execution_count": 13,
          "metadata": {},
          "output_type": "execute_result"
        }
      ],
      "source": [
        "plot_model(lstm, show_shapes=False, to_file='lstm_model.png')"
      ]
    },
    {
      "cell_type": "code",
      "execution_count": 14,
      "metadata": {
        "colab": {
          "base_uri": "https://localhost:8080/",
          "height": 758
        },
        "id": "sYW2bmgYsUKt",
        "outputId": "0bd8b4f6-ecc8-4376-bdc4-5354e59fecad"
      },
      "outputs": [
        {
          "data": {
            "image/png": "[encoded data removed]",
            "text/plain": [
              "<IPython.core.display.Image object>"
            ]
          },
          "execution_count": 14,
          "metadata": {},
          "output_type": "execute_result"
        }
      ],
      "source": [
        "plot_model(selfAtt, show_shapes=False, to_file='selfAtt_model.png')"
      ]
    },
    {
      "attachments": {},
      "cell_type": "markdown",
      "metadata": {
        "id": "0nTWqEnb5hOb"
      },
      "source": [
        "## 모델 평가"
      ]
    },
    {
      "cell_type": "code",
      "execution_count": 17,
      "metadata": {
        "colab": {
          "base_uri": "https://localhost:8080/"
        },
        "id": "XdrFJdy8BzmD",
        "outputId": "dac1768a-cf9c-4702-c50f-76b4d3e06025"
      },
      "outputs": [
        {
          "name": "stdout",
          "output_type": "stream",
          "text": [
            "782/782 [==============================] - 40s 50ms/step - loss: 0.4007 - acc: 0.8407\n",
            "\n",
            " RNN Model 테스트 정확도: 0.8407\n",
            "782/782 [==============================] - 8s 10ms/step - loss: 0.3047 - acc: 0.8764\n",
            "\n",
            " LSTM Model 테스트 정확도: 0.8764\n",
            "782/782 [==============================] - 6s 8ms/step - loss: 0.4111 - accuracy: 0.8642\n",
            "Self Attention 테스트 정확도: 0.8642\n"
          ]
        }
      ],
      "source": [
        "rnn_loaded_model = load_model('rnn_model.h5')\n",
        "lstm_loaded_model = load_model('lstm_model.h5')\n",
        "\n",
        "print(\"\\n RNN Model 테스트 정확도: %.4f\" % (rnn_loaded_model.evaluate(X_test, y_test)[1]))\n",
        "print(\"\\n LSTM Model 테스트 정확도: %.4f\" % (lstm_loaded_model.evaluate(X_test, y_test)[1]))\n",
        "print(\"Self Attention 테스트 정확도: %.4f\" % (selfAtt.evaluate(X_test, y_test)[1]))"
      ]
    },
    {
      "attachments": {},
      "cell_type": "markdown",
      "metadata": {
        "id": "gwQqRQSU5jRi"
      },
      "source": [
        "## 모델 예측"
      ]
    },
    {
      "cell_type": "code",
      "execution_count": 18,
      "metadata": {
        "colab": {
          "base_uri": "https://localhost:8080/"
        },
        "id": "KXWIPKr_K3K-",
        "outputId": "eb533bcc-788f-4092-a8bc-73afb610f4ab"
      },
      "outputs": [
        {
          "name": "stdout",
          "output_type": "stream",
          "text": [
            "===========================RNN model 예측===========================\n",
            "1/1 [==============================] - 0s 161ms/step\n",
            "90.95% 확률로 긍정 리뷰입니다.\n",
            "===========================LSTM model 예측===========================\n",
            "1/1 [==============================] - 0s 362ms/step\n",
            "93.65% 확률로 부정 리뷰입니다.\n",
            "===========================트랜스포머 model 예측===========================\n"
          ]
        },
        {
          "name": "stderr",
          "output_type": "stream",
          "text": [
            "WARNING:tensorflow:5 out of the last 5 calls to <function Model.make_predict_function.<locals>.predict_function at 0x7f92b0f603a0> triggered tf.function retracing. Tracing is expensive and the excessive number of tracings could be due to (1) creating @tf.function repeatedly in a loop, (2) passing tensors with different shapes, (3) passing Python objects instead of tensors. For (1), please define your @tf.function outside of the loop. For (2), @tf.function has reduce_retracing=True option that can avoid unnecessary retracing. For (3), please refer to https://www.tensorflow.org/guide/function#controlling_retracing and https://www.tensorflow.org/api_docs/python/tf/function for  more details.\n"
          ]
        },
        {
          "name": "stdout",
          "output_type": "stream",
          "text": [
            "1/1 [==============================] - 0s 279ms/step\n",
            "1/1 [==============================] - 0s 26ms/step\n",
            "43.22% 확률로 긍정 리뷰입니다.\n",
            "56.78% 확률로 부정 리뷰입니다.\n"
          ]
        }
      ],
      "source": [
        "test_input = \"This movie was just way too overrated. The fighting was not professional and in slow motion. I was expecting more from a 200 million budget movie. The little sister of T.Challa was just trying too hard to be funny. The story was really dumb as well. Don't watch this movie if you are going because others say its great unless you are a Black Panther fan or Marvels fan.\"\n",
        "print(\"===========================RNN model 예측===========================\")\n",
        "sentiment_predict(test_input, rnn_loaded_model)\n",
        "print(\"===========================LSTM model 예측===========================\")\n",
        "sentiment_predict(test_input, lstm_loaded_model)\n",
        "print(\"===========================트랜스포머 model 예측===========================\")\n",
        "sentiment_predict_att(test_input, selfAtt)"
      ]
    },
    {
      "cell_type": "code",
      "execution_count": 23,
      "metadata": {
        "colab": {
          "base_uri": "https://localhost:8080/"
        },
        "id": "w8UuGkpn7dP2",
        "outputId": "de8ad9bd-a13a-48bf-f944-589771d7e421"
      },
      "outputs": [
        {
          "name": "stdout",
          "output_type": "stream",
          "text": [
            "======================== 긍정적인 리뷰 =============================\n",
            "===========================RNN model 예측===========================\n",
            "1/1 [==============================] - 0s 97ms/step\n",
            "96.70% 확률로 긍정 리뷰입니다.\n",
            "===========================LSTM model 예측===========================\n",
            "1/1 [==============================] - 0s 44ms/step\n",
            "98.44% 확률로 긍정 리뷰입니다.\n",
            "===========================트랜스포머 model 예측===========================\n",
            "1/1 [==============================] - 0s 33ms/step\n",
            "1/1 [==============================] - 0s 38ms/step\n",
            "99.60% 확률로 긍정 리뷰입니다.\n",
            "0.40% 확률로 부정 리뷰입니다.\n",
            "======================== 부정적인 리뷰 =============================\n",
            "===========================RNN model 예측===========================\n",
            "1/1 [==============================] - 0s 92ms/step\n",
            "92.79% 확률로 부정 리뷰입니다.\n",
            "===========================LSTM model 예측===========================\n",
            "1/1 [==============================] - 0s 38ms/step\n",
            "97.79% 확률로 부정 리뷰입니다.\n",
            "===========================트랜스포머 model 예측===========================\n",
            "1/1 [==============================] - 0s 39ms/step\n",
            "1/1 [==============================] - 0s 35ms/step\n",
            "0.44% 확률로 긍정 리뷰입니다.\n",
            "99.56% 확률로 부정 리뷰입니다.\n"
          ]
        }
      ],
      "source": [
        "# 긍정적인 리뷰\n",
        "positive_review = \"I watched this film last night and it was an amazing experience. \\\n",
        "The performances by the actors were top notch and the storyline was gripping. \\\n",
        "The cinematography was beautiful, it really transported me into the movie's world. \\\n",
        "I highly recommend this film to anyone who enjoys quality cinema.\"\n",
        "\n",
        "# 부정적인 리뷰\n",
        "negative_review = \"I really wanted to like this movie but it just didn't hit the mark for me. \\\n",
        "The plot was full of holes and the character development was almost non-existent. \\\n",
        "Despite having a strong cast, the performances were lackluster due to the weak script. \\\n",
        "I wouldn't recommend wasting your time on this one.\"\n",
        "\n",
        "print(\"======================== 긍정적인 리뷰 =============================\")\n",
        "print(\"===========================RNN model 예측===========================\")\n",
        "sentiment_predict(positive_review, rnn_loaded_model)\n",
        "print(\"===========================LSTM model 예측===========================\")\n",
        "sentiment_predict(positive_review, lstm_loaded_model)\n",
        "print(\"===========================트랜스포머 model 예측===========================\")\n",
        "sentiment_predict_att(positive_review, selfAtt)\n",
        "\n",
        "print(\"======================== 부정적인 리뷰 =============================\")\n",
        "print(\"===========================RNN model 예측===========================\")\n",
        "sentiment_predict(negative_review, rnn_loaded_model)\n",
        "print(\"===========================LSTM model 예측===========================\")\n",
        "sentiment_predict(negative_review, lstm_loaded_model)\n",
        "print(\"===========================트랜스포머 model 예측===========================\")\n",
        "sentiment_predict_att(negative_review, selfAtt)"
      ]
    }
  ],
  "metadata": {
    "accelerator": "GPU",
    "colab": {
      "gpuType": "T4",
      "provenance": []
    },
    "kernelspec": {
      "display_name": "Python 3",
      "name": "python3"
    },
    "language_info": {
      "name": "python"
    }
  },
  "nbformat": 4,
  "nbformat_minor": 0
}
